{
 "cells": [
  {
   "cell_type": "markdown",
   "metadata": {},
   "source": [
    "1. データのロード\n",
    "2. 型チェック\n",
    "3. 型変更でのダウンサイズ\n",
    "4. 扱い安い型への変更"
   ]
  },
  {
   "cell_type": "code",
   "execution_count": 1,
   "metadata": {},
   "outputs": [],
   "source": [
    "import pandas as pd\n",
    "from tools.datahandling import DataHandling as DH"
   ]
  },
  {
   "cell_type": "markdown",
   "metadata": {},
   "source": [
    "# Train"
   ]
  },
  {
   "cell_type": "code",
   "execution_count": 2,
   "metadata": {},
   "outputs": [
    {
     "data": {
      "text/html": [
       "<div>\n",
       "<style scoped>\n",
       "    .dataframe tbody tr th:only-of-type {\n",
       "        vertical-align: middle;\n",
       "    }\n",
       "\n",
       "    .dataframe tbody tr th {\n",
       "        vertical-align: top;\n",
       "    }\n",
       "\n",
       "    .dataframe thead th {\n",
       "        text-align: right;\n",
       "    }\n",
       "</style>\n",
       "<table border=\"1\" class=\"dataframe\">\n",
       "  <thead>\n",
       "    <tr style=\"text-align: right;\">\n",
       "      <th></th>\n",
       "      <th>ip</th>\n",
       "      <th>app</th>\n",
       "      <th>device</th>\n",
       "      <th>os</th>\n",
       "      <th>channel</th>\n",
       "      <th>click_time</th>\n",
       "      <th>attributed_time</th>\n",
       "      <th>is_attributed</th>\n",
       "    </tr>\n",
       "  </thead>\n",
       "  <tbody>\n",
       "    <tr>\n",
       "      <th>0</th>\n",
       "      <td>83230</td>\n",
       "      <td>3</td>\n",
       "      <td>1</td>\n",
       "      <td>13</td>\n",
       "      <td>379</td>\n",
       "      <td>2017-11-06 14:32:21</td>\n",
       "      <td>NaN</td>\n",
       "      <td>0</td>\n",
       "    </tr>\n",
       "    <tr>\n",
       "      <th>1</th>\n",
       "      <td>17357</td>\n",
       "      <td>3</td>\n",
       "      <td>1</td>\n",
       "      <td>19</td>\n",
       "      <td>379</td>\n",
       "      <td>2017-11-06 14:33:34</td>\n",
       "      <td>NaN</td>\n",
       "      <td>0</td>\n",
       "    </tr>\n",
       "    <tr>\n",
       "      <th>2</th>\n",
       "      <td>35810</td>\n",
       "      <td>3</td>\n",
       "      <td>1</td>\n",
       "      <td>13</td>\n",
       "      <td>379</td>\n",
       "      <td>2017-11-06 14:34:12</td>\n",
       "      <td>NaN</td>\n",
       "      <td>0</td>\n",
       "    </tr>\n",
       "    <tr>\n",
       "      <th>3</th>\n",
       "      <td>45745</td>\n",
       "      <td>14</td>\n",
       "      <td>1</td>\n",
       "      <td>13</td>\n",
       "      <td>478</td>\n",
       "      <td>2017-11-06 14:34:52</td>\n",
       "      <td>NaN</td>\n",
       "      <td>0</td>\n",
       "    </tr>\n",
       "    <tr>\n",
       "      <th>4</th>\n",
       "      <td>161007</td>\n",
       "      <td>3</td>\n",
       "      <td>1</td>\n",
       "      <td>13</td>\n",
       "      <td>379</td>\n",
       "      <td>2017-11-06 14:35:08</td>\n",
       "      <td>NaN</td>\n",
       "      <td>0</td>\n",
       "    </tr>\n",
       "  </tbody>\n",
       "</table>\n",
       "</div>"
      ],
      "text/plain": [
       "       ip  app  device  os  channel           click_time attributed_time  \\\n",
       "0   83230    3       1  13      379  2017-11-06 14:32:21             NaN   \n",
       "1   17357    3       1  19      379  2017-11-06 14:33:34             NaN   \n",
       "2   35810    3       1  13      379  2017-11-06 14:34:12             NaN   \n",
       "3   45745   14       1  13      478  2017-11-06 14:34:52             NaN   \n",
       "4  161007    3       1  13      379  2017-11-06 14:35:08             NaN   \n",
       "\n",
       "   is_attributed  \n",
       "0              0  \n",
       "1              0  \n",
       "2              0  \n",
       "3              0  \n",
       "4              0  "
      ]
     },
     "execution_count": 2,
     "metadata": {},
     "output_type": "execute_result"
    }
   ],
   "source": [
    "df_train = pd.read_csv(\"input/train.csv\")\n",
    "df_train.head()"
   ]
  },
  {
   "cell_type": "code",
   "execution_count": 3,
   "metadata": {},
   "outputs": [
    {
     "data": {
      "text/plain": [
       "ip                  int64\n",
       "app                 int64\n",
       "device              int64\n",
       "os                  int64\n",
       "channel             int64\n",
       "click_time         object\n",
       "attributed_time    object\n",
       "is_attributed       int64\n",
       "dtype: object"
      ]
     },
     "execution_count": 3,
     "metadata": {},
     "output_type": "execute_result"
    }
   ],
   "source": [
    "df_train.dtypes"
   ]
  },
  {
   "cell_type": "code",
   "execution_count": 4,
   "metadata": {},
   "outputs": [
    {
     "name": "stdout",
     "output_type": "stream",
     "text": [
      "===type check===\n",
      "type of click_time is <class 'str'>\n",
      "===type check===\n",
      "type of attributed_time is <class 'float'>\n"
     ]
    }
   ],
   "source": [
    "DH.check_dtypes(df_train)"
   ]
  },
  {
   "cell_type": "code",
   "execution_count": 5,
   "metadata": {},
   "outputs": [
    {
     "name": "stderr",
     "output_type": "stream",
     "text": [
      "2018-11-09 19:38:16,193 datahandling.py tools.util 28 [INFO][change_dtypes] Converting ip \n",
      "2018-11-09 19:38:16,195 datahandling.py tools.util 31 [INFO][change_dtypes] ip is converted from int64 to int32 \n",
      "2018-11-09 19:38:32,920 datahandling.py tools.util 28 [INFO][change_dtypes] Converting app \n",
      "2018-11-09 19:38:32,922 datahandling.py tools.util 31 [INFO][change_dtypes] app is converted from int64 to int32 \n",
      "2018-11-09 19:38:34,352 datahandling.py tools.util 28 [INFO][change_dtypes] Converting device \n",
      "2018-11-09 19:38:34,353 datahandling.py tools.util 31 [INFO][change_dtypes] device is converted from int64 to int32 \n",
      "2018-11-09 19:38:35,955 datahandling.py tools.util 28 [INFO][change_dtypes] Converting os \n",
      "2018-11-09 19:38:35,957 datahandling.py tools.util 31 [INFO][change_dtypes] os is converted from int64 to int32 \n",
      "2018-11-09 19:38:37,146 datahandling.py tools.util 28 [INFO][change_dtypes] Converting channel \n",
      "2018-11-09 19:38:37,147 datahandling.py tools.util 31 [INFO][change_dtypes] channel is converted from int64 to int32 \n",
      "2018-11-09 19:38:37,940 datahandling.py tools.util 28 [INFO][change_dtypes] Converting click_time \n",
      "2018-11-09 19:38:39,392 datahandling.py tools.util 40 [INFO][change_dtypes] click_time has nothing to be done \n",
      "2018-11-09 19:38:39,401 datahandling.py tools.util 28 [INFO][change_dtypes] Converting attributed_time \n",
      "2018-11-09 19:38:40,838 datahandling.py tools.util 40 [INFO][change_dtypes] attributed_time has nothing to be done \n",
      "2018-11-09 19:38:40,839 datahandling.py tools.util 28 [INFO][change_dtypes] Converting is_attributed \n",
      "2018-11-09 19:38:40,841 datahandling.py tools.util 31 [INFO][change_dtypes] is_attributed is converted from int64 to int32 \n"
     ]
    },
    {
     "name": "stdout",
     "output_type": "stream",
     "text": [
      "       ip  app  device  os  channel           click_time attributed_time  \\\n",
      "0   83230    3       1  13      379  2017-11-06 14:32:21             NaN   \n",
      "1   17357    3       1  19      379  2017-11-06 14:33:34             NaN   \n",
      "2   35810    3       1  13      379  2017-11-06 14:34:12             NaN   \n",
      "3   45745   14       1  13      478  2017-11-06 14:34:52             NaN   \n",
      "4  161007    3       1  13      379  2017-11-06 14:35:08             NaN   \n",
      "\n",
      "   is_attributed  \n",
      "0              0  \n",
      "1              0  \n",
      "2              0  \n",
      "3              0  \n",
      "4              0  \n",
      "ip                          int32\n",
      "app                         int32\n",
      "device                      int32\n",
      "os                          int32\n",
      "channel                     int32\n",
      "click_time         datetime64[ns]\n",
      "attributed_time            object\n",
      "is_attributed               int32\n",
      "dtype: object\n"
     ]
    }
   ],
   "source": [
    "df_train = DH.change_dtypes(df_train)\n",
    "df_train['click_time'] = pd.to_datetime(df_train['click_time'])\n",
    "print(df_train.dtypes)\n",
    "df_train.to_pickle(\"input/0.train.pkl\")"
   ]
  },
  {
   "cell_type": "markdown",
   "metadata": {},
   "source": [
    "# Test"
   ]
  },
  {
   "cell_type": "code",
   "execution_count": 6,
   "metadata": {},
   "outputs": [
    {
     "data": {
      "text/html": [
       "<div>\n",
       "<style scoped>\n",
       "    .dataframe tbody tr th:only-of-type {\n",
       "        vertical-align: middle;\n",
       "    }\n",
       "\n",
       "    .dataframe tbody tr th {\n",
       "        vertical-align: top;\n",
       "    }\n",
       "\n",
       "    .dataframe thead th {\n",
       "        text-align: right;\n",
       "    }\n",
       "</style>\n",
       "<table border=\"1\" class=\"dataframe\">\n",
       "  <thead>\n",
       "    <tr style=\"text-align: right;\">\n",
       "      <th></th>\n",
       "      <th>click_id</th>\n",
       "      <th>ip</th>\n",
       "      <th>app</th>\n",
       "      <th>device</th>\n",
       "      <th>os</th>\n",
       "      <th>channel</th>\n",
       "      <th>click_time</th>\n",
       "    </tr>\n",
       "  </thead>\n",
       "  <tbody>\n",
       "    <tr>\n",
       "      <th>0</th>\n",
       "      <td>0</td>\n",
       "      <td>5744</td>\n",
       "      <td>9</td>\n",
       "      <td>1</td>\n",
       "      <td>3</td>\n",
       "      <td>107</td>\n",
       "      <td>2017-11-10 04:00:00</td>\n",
       "    </tr>\n",
       "    <tr>\n",
       "      <th>1</th>\n",
       "      <td>1</td>\n",
       "      <td>119901</td>\n",
       "      <td>9</td>\n",
       "      <td>1</td>\n",
       "      <td>3</td>\n",
       "      <td>466</td>\n",
       "      <td>2017-11-10 04:00:00</td>\n",
       "    </tr>\n",
       "    <tr>\n",
       "      <th>2</th>\n",
       "      <td>2</td>\n",
       "      <td>72287</td>\n",
       "      <td>21</td>\n",
       "      <td>1</td>\n",
       "      <td>19</td>\n",
       "      <td>128</td>\n",
       "      <td>2017-11-10 04:00:00</td>\n",
       "    </tr>\n",
       "    <tr>\n",
       "      <th>3</th>\n",
       "      <td>3</td>\n",
       "      <td>78477</td>\n",
       "      <td>15</td>\n",
       "      <td>1</td>\n",
       "      <td>13</td>\n",
       "      <td>111</td>\n",
       "      <td>2017-11-10 04:00:00</td>\n",
       "    </tr>\n",
       "    <tr>\n",
       "      <th>4</th>\n",
       "      <td>4</td>\n",
       "      <td>123080</td>\n",
       "      <td>12</td>\n",
       "      <td>1</td>\n",
       "      <td>13</td>\n",
       "      <td>328</td>\n",
       "      <td>2017-11-10 04:00:00</td>\n",
       "    </tr>\n",
       "  </tbody>\n",
       "</table>\n",
       "</div>"
      ],
      "text/plain": [
       "   click_id      ip  app  device  os  channel           click_time\n",
       "0         0    5744    9       1   3      107  2017-11-10 04:00:00\n",
       "1         1  119901    9       1   3      466  2017-11-10 04:00:00\n",
       "2         2   72287   21       1  19      128  2017-11-10 04:00:00\n",
       "3         3   78477   15       1  13      111  2017-11-10 04:00:00\n",
       "4         4  123080   12       1  13      328  2017-11-10 04:00:00"
      ]
     },
     "execution_count": 6,
     "metadata": {},
     "output_type": "execute_result"
    }
   ],
   "source": [
    "df_test = pd.read_csv(\"input/test.csv\")\n",
    "df_test.head()"
   ]
  },
  {
   "cell_type": "code",
   "execution_count": 7,
   "metadata": {},
   "outputs": [
    {
     "data": {
      "text/plain": [
       "click_id       int64\n",
       "ip             int64\n",
       "app            int64\n",
       "device         int64\n",
       "os             int64\n",
       "channel        int64\n",
       "click_time    object\n",
       "dtype: object"
      ]
     },
     "execution_count": 7,
     "metadata": {},
     "output_type": "execute_result"
    }
   ],
   "source": [
    "df_test.dtypes"
   ]
  },
  {
   "cell_type": "code",
   "execution_count": 9,
   "metadata": {},
   "outputs": [
    {
     "name": "stdout",
     "output_type": "stream",
     "text": [
      "===type check===\n",
      "type of click_time is <class 'str'>\n"
     ]
    }
   ],
   "source": [
    "DH.check_dtypes(df_test)"
   ]
  },
  {
   "cell_type": "code",
   "execution_count": 10,
   "metadata": {},
   "outputs": [
    {
     "name": "stderr",
     "output_type": "stream",
     "text": [
      "2018-11-09 19:44:06,715 datahandling.py tools.util 28 [INFO][change_dtypes] Converting click_id \n",
      "2018-11-09 19:44:06,717 datahandling.py tools.util 31 [INFO][change_dtypes] click_id is converted from int64 to int32 \n",
      "2018-11-09 19:44:08,146 datahandling.py tools.util 28 [INFO][change_dtypes] Converting ip \n",
      "2018-11-09 19:44:08,148 datahandling.py tools.util 31 [INFO][change_dtypes] ip is converted from int64 to int32 \n",
      "2018-11-09 19:44:08,207 datahandling.py tools.util 28 [INFO][change_dtypes] Converting app \n",
      "2018-11-09 19:44:08,209 datahandling.py tools.util 31 [INFO][change_dtypes] app is converted from int64 to int32 \n",
      "2018-11-09 19:44:08,278 datahandling.py tools.util 28 [INFO][change_dtypes] Converting device \n",
      "2018-11-09 19:44:08,279 datahandling.py tools.util 31 [INFO][change_dtypes] device is converted from int64 to int32 \n",
      "2018-11-09 19:44:08,346 datahandling.py tools.util 28 [INFO][change_dtypes] Converting os \n",
      "2018-11-09 19:44:08,347 datahandling.py tools.util 31 [INFO][change_dtypes] os is converted from int64 to int32 \n",
      "2018-11-09 19:44:08,443 datahandling.py tools.util 28 [INFO][change_dtypes] Converting channel \n",
      "2018-11-09 19:44:08,445 datahandling.py tools.util 31 [INFO][change_dtypes] channel is converted from int64 to int32 \n",
      "2018-11-09 19:44:08,624 datahandling.py tools.util 28 [INFO][change_dtypes] Converting click_time \n",
      "2018-11-09 19:44:08,745 datahandling.py tools.util 40 [INFO][change_dtypes] click_time has nothing to be done \n"
     ]
    },
    {
     "name": "stdout",
     "output_type": "stream",
     "text": [
      "   click_id      ip  app  device  os  channel           click_time\n",
      "0         0    5744    9       1   3      107  2017-11-10 04:00:00\n",
      "1         1  119901    9       1   3      466  2017-11-10 04:00:00\n",
      "2         2   72287   21       1  19      128  2017-11-10 04:00:00\n",
      "3         3   78477   15       1  13      111  2017-11-10 04:00:00\n",
      "4         4  123080   12       1  13      328  2017-11-10 04:00:00\n",
      "click_id               int32\n",
      "ip                     int32\n",
      "app                    int32\n",
      "device                 int32\n",
      "os                     int32\n",
      "channel                int32\n",
      "click_time    datetime64[ns]\n",
      "dtype: object\n"
     ]
    }
   ],
   "source": [
    "df_test = DH.change_dtypes(df_test)\n",
    "df_test['click_time'] = pd.to_datetime(df_test['click_time'])\n",
    "print(df_test.dtypes)\n",
    "df_test.to_pickle(\"input/0.test.pkl\")"
   ]
  },
  {
   "cell_type": "markdown",
   "metadata": {},
   "source": [
    "# test supplement"
   ]
  },
  {
   "cell_type": "code",
   "execution_count": 11,
   "metadata": {},
   "outputs": [
    {
     "data": {
      "text/html": [
       "<div>\n",
       "<style scoped>\n",
       "    .dataframe tbody tr th:only-of-type {\n",
       "        vertical-align: middle;\n",
       "    }\n",
       "\n",
       "    .dataframe tbody tr th {\n",
       "        vertical-align: top;\n",
       "    }\n",
       "\n",
       "    .dataframe thead th {\n",
       "        text-align: right;\n",
       "    }\n",
       "</style>\n",
       "<table border=\"1\" class=\"dataframe\">\n",
       "  <thead>\n",
       "    <tr style=\"text-align: right;\">\n",
       "      <th></th>\n",
       "      <th>click_id</th>\n",
       "      <th>ip</th>\n",
       "      <th>app</th>\n",
       "      <th>device</th>\n",
       "      <th>os</th>\n",
       "      <th>channel</th>\n",
       "      <th>click_time</th>\n",
       "    </tr>\n",
       "  </thead>\n",
       "  <tbody>\n",
       "    <tr>\n",
       "      <th>0</th>\n",
       "      <td>0</td>\n",
       "      <td>43570</td>\n",
       "      <td>3</td>\n",
       "      <td>1</td>\n",
       "      <td>18</td>\n",
       "      <td>379</td>\n",
       "      <td>2017-11-09 14:23:39</td>\n",
       "    </tr>\n",
       "    <tr>\n",
       "      <th>1</th>\n",
       "      <td>1</td>\n",
       "      <td>80528</td>\n",
       "      <td>3</td>\n",
       "      <td>1</td>\n",
       "      <td>13</td>\n",
       "      <td>379</td>\n",
       "      <td>2017-11-09 14:23:51</td>\n",
       "    </tr>\n",
       "    <tr>\n",
       "      <th>2</th>\n",
       "      <td>2</td>\n",
       "      <td>32323</td>\n",
       "      <td>3</td>\n",
       "      <td>1</td>\n",
       "      <td>13</td>\n",
       "      <td>379</td>\n",
       "      <td>2017-11-09 14:25:57</td>\n",
       "    </tr>\n",
       "    <tr>\n",
       "      <th>3</th>\n",
       "      <td>3</td>\n",
       "      <td>42887</td>\n",
       "      <td>3</td>\n",
       "      <td>1</td>\n",
       "      <td>17</td>\n",
       "      <td>379</td>\n",
       "      <td>2017-11-09 14:26:03</td>\n",
       "    </tr>\n",
       "    <tr>\n",
       "      <th>4</th>\n",
       "      <td>4</td>\n",
       "      <td>119289</td>\n",
       "      <td>58</td>\n",
       "      <td>1</td>\n",
       "      <td>30</td>\n",
       "      <td>120</td>\n",
       "      <td>2017-11-09 14:26:41</td>\n",
       "    </tr>\n",
       "  </tbody>\n",
       "</table>\n",
       "</div>"
      ],
      "text/plain": [
       "   click_id      ip  app  device  os  channel           click_time\n",
       "0         0   43570    3       1  18      379  2017-11-09 14:23:39\n",
       "1         1   80528    3       1  13      379  2017-11-09 14:23:51\n",
       "2         2   32323    3       1  13      379  2017-11-09 14:25:57\n",
       "3         3   42887    3       1  17      379  2017-11-09 14:26:03\n",
       "4         4  119289   58       1  30      120  2017-11-09 14:26:41"
      ]
     },
     "execution_count": 11,
     "metadata": {},
     "output_type": "execute_result"
    }
   ],
   "source": [
    "df_test_s = pd.read_csv(\"input/test_supplement.csv\")\n",
    "df_test_s.head()"
   ]
  },
  {
   "cell_type": "code",
   "execution_count": 12,
   "metadata": {},
   "outputs": [
    {
     "data": {
      "text/plain": [
       "click_id       int64\n",
       "ip             int64\n",
       "app            int64\n",
       "device         int64\n",
       "os             int64\n",
       "channel        int64\n",
       "click_time    object\n",
       "dtype: object"
      ]
     },
     "execution_count": 12,
     "metadata": {},
     "output_type": "execute_result"
    }
   ],
   "source": [
    "df_test_s.dtypes"
   ]
  },
  {
   "cell_type": "code",
   "execution_count": 13,
   "metadata": {},
   "outputs": [
    {
     "name": "stdout",
     "output_type": "stream",
     "text": [
      "===type check===\n",
      "type of click_time is <class 'str'>\n"
     ]
    }
   ],
   "source": [
    "DH.check_dtypes(df_test_s)"
   ]
  },
  {
   "cell_type": "code",
   "execution_count": 14,
   "metadata": {},
   "outputs": [
    {
     "name": "stderr",
     "output_type": "stream",
     "text": [
      "2018-11-09 19:45:08,824 datahandling.py tools.util 28 [INFO][change_dtypes] Converting click_id \n",
      "2018-11-09 19:45:08,832 datahandling.py tools.util 31 [INFO][change_dtypes] click_id is converted from int64 to int32 \n",
      "2018-11-09 19:45:14,144 datahandling.py tools.util 28 [INFO][change_dtypes] Converting ip \n",
      "2018-11-09 19:45:14,146 datahandling.py tools.util 31 [INFO][change_dtypes] ip is converted from int64 to int32 \n",
      "2018-11-09 19:45:14,395 datahandling.py tools.util 28 [INFO][change_dtypes] Converting app \n",
      "2018-11-09 19:45:14,397 datahandling.py tools.util 31 [INFO][change_dtypes] app is converted from int64 to int32 \n",
      "2018-11-09 19:45:14,641 datahandling.py tools.util 28 [INFO][change_dtypes] Converting device \n",
      "2018-11-09 19:45:14,642 datahandling.py tools.util 31 [INFO][change_dtypes] device is converted from int64 to int32 \n",
      "2018-11-09 19:45:14,887 datahandling.py tools.util 28 [INFO][change_dtypes] Converting os \n",
      "2018-11-09 19:45:14,888 datahandling.py tools.util 31 [INFO][change_dtypes] os is converted from int64 to int32 \n",
      "2018-11-09 19:45:15,142 datahandling.py tools.util 28 [INFO][change_dtypes] Converting channel \n",
      "2018-11-09 19:45:15,143 datahandling.py tools.util 31 [INFO][change_dtypes] channel is converted from int64 to int32 \n",
      "2018-11-09 19:45:15,387 datahandling.py tools.util 28 [INFO][change_dtypes] Converting click_time \n",
      "2018-11-09 19:45:15,698 datahandling.py tools.util 40 [INFO][change_dtypes] click_time has nothing to be done \n"
     ]
    },
    {
     "name": "stdout",
     "output_type": "stream",
     "text": [
      "   click_id      ip  app  device  os  channel           click_time\n",
      "0         0   43570    3       1  18      379  2017-11-09 14:23:39\n",
      "1         1   80528    3       1  13      379  2017-11-09 14:23:51\n",
      "2         2   32323    3       1  13      379  2017-11-09 14:25:57\n",
      "3         3   42887    3       1  17      379  2017-11-09 14:26:03\n",
      "4         4  119289   58       1  30      120  2017-11-09 14:26:41\n",
      "click_id               int32\n",
      "ip                     int32\n",
      "app                    int32\n",
      "device                 int32\n",
      "os                     int32\n",
      "channel                int32\n",
      "click_time    datetime64[ns]\n",
      "dtype: object\n"
     ]
    }
   ],
   "source": [
    "df_test_s = DH.change_dtypes(df_test_s)\n",
    "df_test_s['click_time'] = pd.to_datetime(df_test_s['click_time'])\n",
    "print(df_test_s.dtypes)\n",
    "df_test_s.to_pickle(\"input/0.test_supplement.pkl\")"
   ]
  },
  {
   "cell_type": "code",
   "execution_count": null,
   "metadata": {},
   "outputs": [],
   "source": []
  },
  {
   "cell_type": "code",
   "execution_count": null,
   "metadata": {},
   "outputs": [],
   "source": []
  }
 ],
 "metadata": {
  "kernelspec": {
   "display_name": "Python 3",
   "language": "python",
   "name": "python3"
  },
  "language_info": {
   "codemirror_mode": {
    "name": "ipython",
    "version": 3
   },
   "file_extension": ".py",
   "mimetype": "text/x-python",
   "name": "python",
   "nbconvert_exporter": "python",
   "pygments_lexer": "ipython3",
   "version": "3.5.2"
  }
 },
 "nbformat": 4,
 "nbformat_minor": 2
}
