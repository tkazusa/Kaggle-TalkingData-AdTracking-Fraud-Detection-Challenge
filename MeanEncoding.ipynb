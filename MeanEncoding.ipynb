{
 "cells": [
  {
   "cell_type": "markdown",
   "metadata": {},
   "source": [
    "# インポート"
   ]
  },
  {
   "cell_type": "code",
   "execution_count": 1,
   "metadata": {},
   "outputs": [],
   "source": [
    "import gc\n",
    "\n",
    "import pandas as pd\n",
    "import numpy as np\n",
    "\n",
    "from tools.util import Util\n",
    "from tools.encoding import MeanEncoder\n",
    "\n",
    "from sklearn.model_selection import KFold\n",
    "np.random.seed(10)"
   ]
  },
  {
   "cell_type": "markdown",
   "metadata": {},
   "source": [
    "# 学習、評価、テストデータのロード"
   ]
  },
  {
   "cell_type": "code",
   "execution_count": 3,
   "metadata": {},
   "outputs": [],
   "source": [
    "df_selected_train = pd.read_pickle(\"input/org/selected_train.pkl\")\n",
    "df_selected_val = pd.read_pickle(\"input/org/selected_val.pkl\")\n",
    "df_org_test = pd.read_pickle(\"input/org/org_test.pkl\")"
   ]
  },
  {
   "cell_type": "markdown",
   "metadata": {},
   "source": [
    "# 学習データに関してはKFoldでEncodeing。Index保持する理由無いならConcatでOk?　Val,Testに関しては、TrainでFitしたものに対してtransformかけている。"
   ]
  },
  {
   "cell_type": "code",
   "execution_count": 4,
   "metadata": {},
   "outputs": [
    {
     "name": "stdout",
     "output_type": "stream",
     "text": [
      "app\n",
      "channel\n",
      "device\n",
      "ip\n",
      "os\n"
     ]
    }
   ],
   "source": [
    "kf = KFold(n_splits=3, shuffle=False)\n",
    "columns_list = df_selected_train.columns.drop([\"click_id\", \"is_attributed\", \"data_set\", \"day\", \"hour\"])\n",
    "\n",
    "for columns in columns_list:\n",
    "    print(columns)\n",
    "    dfs = []\n",
    "    for tr_ind, val_ind in kf.split(df_selected_train[columns]):\n",
    "        X_tr, X_val = df_selected_train[columns].iloc[tr_ind], df_selected_train[columns].iloc[val_ind]\n",
    "        y_tr, y_val= df_selected_train['is_attributed'].iloc[tr_ind], df_selected_train['is_attributed'].iloc[val_ind]\n",
    "        \n",
    "        me = MeanEncoder()\n",
    "        me.fit(X_tr, y_tr)\n",
    "        me.transform(X_val)\n",
    "        dfs.append(me.transform(X_val))\n",
    "    \n",
    "    df_selected_train[\"ME_\" + columns] = pd.concat(dfs, axis=0)\n",
    "    df_selected_val[\"ME_\" + columns] = me.transform(df_selected_val[columns])\n",
    "    df_org_test[\"ME_\" + columns] = me.transform(df_org_test[columns])"
   ]
  },
  {
   "cell_type": "markdown",
   "metadata": {},
   "source": [
    "# もとのカテゴリカル変数は落とす。不要な特徴量も落とす。"
   ]
  },
  {
   "cell_type": "code",
   "execution_count": 5,
   "metadata": {},
   "outputs": [],
   "source": [
    "df_train = df_selected_train.drop(columns_list, axis=1)\n",
    "df_train = df_train.drop([\"click_id\", \"data_set\", \"is_attributed\"], axis=1)\n",
    "\n",
    "\n",
    "df_val = df_selected_val.drop(columns_list, axis=1)\n",
    "df_val = df_val.drop([\"click_id\", \"data_set\", \"is_attributed\"], axis=1)\n",
    "\n",
    "\n",
    "df_test = df_org_test.drop(columns_list, axis=1)\n",
    "df_test = df_test.drop([\"click_id\", \"data_set\", \"is_attributed\"], axis=1)"
   ]
  },
  {
   "cell_type": "markdown",
   "metadata": {},
   "source": [
    "# Save"
   ]
  },
  {
   "cell_type": "code",
   "execution_count": 6,
   "metadata": {},
   "outputs": [],
   "source": [
    "df_test[\"click_id\"] = df_org_test[\"click_id\"].astype('int')\n",
    "df_test[\"hour\"] = df_org_test[\"hour\"].astype('int')\n",
    "df_test.to_pickle(\"input/org/MeanEncoded/test.pkl\")\n",
    "\n",
    "df_train[\"hour\"] = df_selected_train[\"hour\"].astype('int')\n",
    "df_train.to_pickle(\"input/org/MeanEncoded/train.pkl\")\n",
    "\n",
    "df_val[\"hour\"] = df_selected_val[\"hour\"]\n",
    "df_val.to_pickle(\"input/org/MeanEncoded/val.pkl\")"
   ]
  },
  {
   "cell_type": "code",
   "execution_count": null,
   "metadata": {},
   "outputs": [],
   "source": []
  }
 ],
 "metadata": {
  "kernelspec": {
   "display_name": "Python 3",
   "language": "python",
   "name": "python3"
  },
  "language_info": {
   "codemirror_mode": {
    "name": "ipython",
    "version": 3
   },
   "file_extension": ".py",
   "mimetype": "text/x-python",
   "name": "python",
   "nbconvert_exporter": "python",
   "pygments_lexer": "ipython3",
   "version": "3.5.2"
  }
 },
 "nbformat": 4,
 "nbformat_minor": 2
}
