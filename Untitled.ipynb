{
 "cells": [
  {
   "cell_type": "code",
   "execution_count": 1,
   "metadata": {},
   "outputs": [],
   "source": [
    "import gc\n",
    "\n",
    "import pandas as pd\n",
    "import numpy as np\n",
    "\n",
    "from tools.util import Util\n",
    "from tools.encoding import MeanEncoder, HashEncoder, FreqencyEncoder"
   ]
  },
  {
   "cell_type": "code",
   "execution_count": null,
   "metadata": {},
   "outputs": [],
   "source": [
    "df = pd.read_pickle(\"input/tr_test_concat.pkl\")"
   ]
  },
  {
   "cell_type": "code",
   "execution_count": null,
   "metadata": {},
   "outputs": [],
   "source": [
    "df[\"day\"] = df[\"click_time\"].dt.day.astype('int')\n",
    "df[\"hour\"] = df[\"click_time\"].dt.hour.astype('int')\n",
    "df = df.drop([\"attributed_time\"], axis=1)\n",
    "df = df.drop([\"click_time\"], axis=1)"
   ]
  },
  {
   "cell_type": "markdown",
   "metadata": {},
   "source": [
    "1. 8日をTrain、9日の同時間帯をvalとする\n",
    "2. \n",
    "click_timeは時間のみ抜き出してくる。\n",
    "\n",
    "channel_id, device, os, ip, appの5つは下記の方法でエンコード。\n",
    "- Freq_enc\n",
    "- hashenc\n",
    "- meanenc\n",
    "をバラバラ、全部一緒のそれぞれ4パターン実施\n",
    "\n",
    "・ハイパラのアホみたいなチューニングはできないから、一旦、自分のvalが信じられるか、確かめる。\n",
    "\n",
    "earlystopping必須"
   ]
  },
  {
   "cell_type": "code",
   "execution_count": null,
   "metadata": {},
   "outputs": [],
   "source": [
    "columns_list = df.columns.drop([\"click_id\", \"is_attributed\", \"data_set\", \"day\", \"hour\"])"
   ]
  },
  {
   "cell_type": "code",
   "execution_count": null,
   "metadata": {},
   "outputs": [],
   "source": [
    "df_selected_train = df[df[\"day\"] == 8]\n",
    "df_selected_val   = df[(df[\"day\"] == 9) &\n",
    "                       (df[\"hour\"] >= 4)|\n",
    "                       (df[\"hour\"] <= 15)]\n",
    "\n",
    "df_selected_all = pd.concat([df_selected_train, df_selected_val], axis=0)\n",
    "df_org_test  = df[df[\"data_set\"] == 1]\n",
    "\n",
    "del df\n",
    "gc.collect()"
   ]
  },
  {
   "cell_type": "code",
   "execution_count": null,
   "metadata": {},
   "outputs": [],
   "source": [
    "df_selected_train.head()"
   ]
  },
  {
   "cell_type": "code",
   "execution_count": null,
   "metadata": {},
   "outputs": [],
   "source": [
    "df_selected_train.to_pickle(\"input/org/selected_train.pkl\")\n",
    "df_selected_val.to_pickle(\"input/org/selected_val.pkl\")\n",
    "df_org_test.to_pickle(\"input/org/org_test.pkl\")"
   ]
  },
  {
   "cell_type": "code",
   "execution_count": null,
   "metadata": {},
   "outputs": [],
   "source": [
    "df_train = pd.DataFrame()\n",
    "df_val   = pd.DataFrame()\n",
    "df_test  = pd.DataFrame()\n",
    "\n",
    "\n",
    "for columns in columns_list:\n",
    "    print(columns)\n",
    "    fe = FreqencyEncoder()\n",
    "    fe.fit(df_selected_train[columns])\n",
    "    \n",
    "    df_tmp_train = fe.transform(df_selected_train[columns])\n",
    "    df_train[df_tmp_train.columns] = df_tmp_train\n",
    "    del df_tmp_train \n",
    "    gc.collect()\n",
    "    \n",
    "    \n",
    "    df_tmp_val = fe.transform(df_selected_val[columns])\n",
    "    df_val[df_tmp_val.columns] = df_tmp_val\n",
    "    del df_tmp_val\n",
    "    gc.collect()\n",
    " \n",
    "    df_tmp_test = fe.transform(df_org_test[columns])\n",
    "    df_test[df_tmp_test.columns] = df_tmp_test\n",
    "    del df_tmp_test\n",
    "    gc.collect()"
   ]
  },
  {
   "cell_type": "code",
   "execution_count": 19,
   "metadata": {},
   "outputs": [
    {
     "data": {
      "text/html": [
       "<div>\n",
       "<style scoped>\n",
       "    .dataframe tbody tr th:only-of-type {\n",
       "        vertical-align: middle;\n",
       "    }\n",
       "\n",
       "    .dataframe tbody tr th {\n",
       "        vertical-align: top;\n",
       "    }\n",
       "\n",
       "    .dataframe thead th {\n",
       "        text-align: right;\n",
       "    }\n",
       "</style>\n",
       "<table border=\"1\" class=\"dataframe\">\n",
       "  <thead>\n",
       "    <tr style=\"text-align: right;\">\n",
       "      <th></th>\n",
       "      <th>FE_app</th>\n",
       "      <th>FE_channel</th>\n",
       "      <th>FE_device</th>\n",
       "      <th>FE_ip</th>\n",
       "      <th>FE_os</th>\n",
       "      <th>click_id</th>\n",
       "      <th>hour</th>\n",
       "    </tr>\n",
       "  </thead>\n",
       "  <tbody>\n",
       "    <tr>\n",
       "      <th>0</th>\n",
       "      <td>0.080403</td>\n",
       "      <td>0.040177</td>\n",
       "      <td>0.948708</td>\n",
       "      <td>0.000005</td>\n",
       "      <td>0.015570</td>\n",
       "      <td>0</td>\n",
       "      <td>4</td>\n",
       "    </tr>\n",
       "    <tr>\n",
       "      <th>1</th>\n",
       "      <td>0.080403</td>\n",
       "      <td>0.016794</td>\n",
       "      <td>0.948708</td>\n",
       "      <td>0.000124</td>\n",
       "      <td>0.015570</td>\n",
       "      <td>1</td>\n",
       "      <td>4</td>\n",
       "    </tr>\n",
       "    <tr>\n",
       "      <th>2</th>\n",
       "      <td>0.018236</td>\n",
       "      <td>0.012704</td>\n",
       "      <td>0.948708</td>\n",
       "      <td>0.000077</td>\n",
       "      <td>0.240207</td>\n",
       "      <td>2</td>\n",
       "      <td>4</td>\n",
       "    </tr>\n",
       "    <tr>\n",
       "      <th>3</th>\n",
       "      <td>0.087263</td>\n",
       "      <td>0.003124</td>\n",
       "      <td>0.948708</td>\n",
       "      <td>0.000065</td>\n",
       "      <td>0.215839</td>\n",
       "      <td>3</td>\n",
       "      <td>4</td>\n",
       "    </tr>\n",
       "    <tr>\n",
       "      <th>4</th>\n",
       "      <td>0.133188</td>\n",
       "      <td>0.009578</td>\n",
       "      <td>0.948708</td>\n",
       "      <td>0.000001</td>\n",
       "      <td>0.215839</td>\n",
       "      <td>4</td>\n",
       "      <td>4</td>\n",
       "    </tr>\n",
       "  </tbody>\n",
       "</table>\n",
       "</div>"
      ],
      "text/plain": [
       "     FE_app  FE_channel  FE_device     FE_ip     FE_os  click_id  hour\n",
       "0  0.080403    0.040177   0.948708  0.000005  0.015570         0     4\n",
       "1  0.080403    0.016794   0.948708  0.000124  0.015570         1     4\n",
       "2  0.018236    0.012704   0.948708  0.000077  0.240207         2     4\n",
       "3  0.087263    0.003124   0.948708  0.000065  0.215839         3     4\n",
       "4  0.133188    0.009578   0.948708  0.000001  0.215839         4     4"
      ]
     },
     "execution_count": 19,
     "metadata": {},
     "output_type": "execute_result"
    }
   ],
   "source": [
    "df_test[\"click_id\"] = df_org_test[\"click_id\"].astype('int')\n",
    "df_test[\"hour\"] = df_org_test[\"hour\"].astype('int')\n",
    "df_train.to_pickle(\"input/org/FrequencyEncoded/test.pkl\")\n",
    "df_test.head()"
   ]
  },
  {
   "cell_type": "code",
   "execution_count": 20,
   "metadata": {},
   "outputs": [
    {
     "data": {
      "text/html": [
       "<div>\n",
       "<style scoped>\n",
       "    .dataframe tbody tr th:only-of-type {\n",
       "        vertical-align: middle;\n",
       "    }\n",
       "\n",
       "    .dataframe tbody tr th {\n",
       "        vertical-align: top;\n",
       "    }\n",
       "\n",
       "    .dataframe thead th {\n",
       "        text-align: right;\n",
       "    }\n",
       "</style>\n",
       "<table border=\"1\" class=\"dataframe\">\n",
       "  <thead>\n",
       "    <tr style=\"text-align: right;\">\n",
       "      <th></th>\n",
       "      <th>FE_app</th>\n",
       "      <th>FE_channel</th>\n",
       "      <th>FE_device</th>\n",
       "      <th>FE_ip</th>\n",
       "      <th>FE_os</th>\n",
       "      <th>hour</th>\n",
       "    </tr>\n",
       "  </thead>\n",
       "  <tbody>\n",
       "    <tr>\n",
       "      <th>68941878</th>\n",
       "      <td>0.014151</td>\n",
       "      <td>0.030456</td>\n",
       "      <td>0.948708</td>\n",
       "      <td>0.000863</td>\n",
       "      <td>0.215839</td>\n",
       "      <td>0</td>\n",
       "    </tr>\n",
       "    <tr>\n",
       "      <th>68941879</th>\n",
       "      <td>0.022815</td>\n",
       "      <td>0.040141</td>\n",
       "      <td>0.948708</td>\n",
       "      <td>0.000080</td>\n",
       "      <td>0.016812</td>\n",
       "      <td>0</td>\n",
       "    </tr>\n",
       "    <tr>\n",
       "      <th>68941880</th>\n",
       "      <td>0.133188</td>\n",
       "      <td>0.028176</td>\n",
       "      <td>0.948708</td>\n",
       "      <td>0.000013</td>\n",
       "      <td>0.215839</td>\n",
       "      <td>0</td>\n",
       "    </tr>\n",
       "    <tr>\n",
       "      <th>68941881</th>\n",
       "      <td>0.087263</td>\n",
       "      <td>0.030272</td>\n",
       "      <td>0.948708</td>\n",
       "      <td>0.000093</td>\n",
       "      <td>0.240207</td>\n",
       "      <td>0</td>\n",
       "    </tr>\n",
       "    <tr>\n",
       "      <th>68941882</th>\n",
       "      <td>0.012585</td>\n",
       "      <td>0.005584</td>\n",
       "      <td>0.948708</td>\n",
       "      <td>0.000037</td>\n",
       "      <td>0.048926</td>\n",
       "      <td>0</td>\n",
       "    </tr>\n",
       "  </tbody>\n",
       "</table>\n",
       "</div>"
      ],
      "text/plain": [
       "            FE_app  FE_channel  FE_device     FE_ip     FE_os  hour\n",
       "68941878  0.014151    0.030456   0.948708  0.000863  0.215839     0\n",
       "68941879  0.022815    0.040141   0.948708  0.000080  0.016812     0\n",
       "68941880  0.133188    0.028176   0.948708  0.000013  0.215839     0\n",
       "68941881  0.087263    0.030272   0.948708  0.000093  0.240207     0\n",
       "68941882  0.012585    0.005584   0.948708  0.000037  0.048926     0"
      ]
     },
     "execution_count": 20,
     "metadata": {},
     "output_type": "execute_result"
    }
   ],
   "source": [
    "df_train[\"hour\"] = df_selected_train[\"hour\"].astype('int')\n",
    "df_train.to_pickle(\"input/org/FrequencyEncoded/train.pkl\")\n",
    "df_train.head()"
   ]
  },
  {
   "cell_type": "code",
   "execution_count": 21,
   "metadata": {},
   "outputs": [
    {
     "data": {
      "text/html": [
       "<div>\n",
       "<style scoped>\n",
       "    .dataframe tbody tr th:only-of-type {\n",
       "        vertical-align: middle;\n",
       "    }\n",
       "\n",
       "    .dataframe tbody tr th {\n",
       "        vertical-align: top;\n",
       "    }\n",
       "\n",
       "    .dataframe thead th {\n",
       "        text-align: right;\n",
       "    }\n",
       "</style>\n",
       "<table border=\"1\" class=\"dataframe\">\n",
       "  <thead>\n",
       "    <tr style=\"text-align: right;\">\n",
       "      <th></th>\n",
       "      <th>FE_app</th>\n",
       "      <th>FE_channel</th>\n",
       "      <th>FE_device</th>\n",
       "      <th>FE_ip</th>\n",
       "      <th>FE_os</th>\n",
       "      <th>hour</th>\n",
       "    </tr>\n",
       "  </thead>\n",
       "  <tbody>\n",
       "    <tr>\n",
       "      <th>0</th>\n",
       "      <td>0.212623</td>\n",
       "      <td>0.017214</td>\n",
       "      <td>0.948708</td>\n",
       "      <td>0.000135</td>\n",
       "      <td>0.215839</td>\n",
       "      <td>14</td>\n",
       "    </tr>\n",
       "    <tr>\n",
       "      <th>1</th>\n",
       "      <td>0.212623</td>\n",
       "      <td>0.017214</td>\n",
       "      <td>0.948708</td>\n",
       "      <td>0.000132</td>\n",
       "      <td>0.240207</td>\n",
       "      <td>14</td>\n",
       "    </tr>\n",
       "    <tr>\n",
       "      <th>2</th>\n",
       "      <td>0.212623</td>\n",
       "      <td>0.017214</td>\n",
       "      <td>0.948708</td>\n",
       "      <td>0.000045</td>\n",
       "      <td>0.215839</td>\n",
       "      <td>14</td>\n",
       "    </tr>\n",
       "    <tr>\n",
       "      <th>3</th>\n",
       "      <td>0.053576</td>\n",
       "      <td>0.003403</td>\n",
       "      <td>0.948708</td>\n",
       "      <td>0.000931</td>\n",
       "      <td>0.215839</td>\n",
       "      <td>14</td>\n",
       "    </tr>\n",
       "    <tr>\n",
       "      <th>4</th>\n",
       "      <td>0.212623</td>\n",
       "      <td>0.017214</td>\n",
       "      <td>0.948708</td>\n",
       "      <td>0.000009</td>\n",
       "      <td>0.215839</td>\n",
       "      <td>14</td>\n",
       "    </tr>\n",
       "  </tbody>\n",
       "</table>\n",
       "</div>"
      ],
      "text/plain": [
       "     FE_app  FE_channel  FE_device     FE_ip     FE_os  hour\n",
       "0  0.212623    0.017214   0.948708  0.000135  0.215839    14\n",
       "1  0.212623    0.017214   0.948708  0.000132  0.240207    14\n",
       "2  0.212623    0.017214   0.948708  0.000045  0.215839    14\n",
       "3  0.053576    0.003403   0.948708  0.000931  0.215839    14\n",
       "4  0.212623    0.017214   0.948708  0.000009  0.215839    14"
      ]
     },
     "execution_count": 21,
     "metadata": {},
     "output_type": "execute_result"
    }
   ],
   "source": [
    "df_val[\"hour\"] = df_selected_val[\"hour\"]\n",
    "df_train.to_pickle(\"input/org/FrequencyEncoded/val.pkl\")\n",
    "df_val.head()"
   ]
  },
  {
   "cell_type": "code",
   "execution_count": 34,
   "metadata": {},
   "outputs": [],
   "source": [
    "X_train = df_train\n",
    "y_train = df_selected_train[\"is_attributed\"]\n",
    "\n",
    "del df_train\n",
    "gc.collect()\n",
    "\n",
    "X_val = df_val\n",
    "y_val = df_selected_val[\"is_attributed\"]\n",
    "\n",
    "del df_val\n",
    "gc.collect()\n",
    "\n",
    "X_test = df_test.drop([\"click_id\"], axis=1)\n",
    "del df_test\n",
    "gc.collct()"
   ]
  },
  {
   "cell_type": "code",
   "execution_count": null,
   "metadata": {},
   "outputs": [
    {
     "name": "stderr",
     "output_type": "stream",
     "text": [
      "/usr/local/lib/python3.5/dist-packages/sklearn/ensemble/weight_boosting.py:29: DeprecationWarning: numpy.core.umath_tests is an internal NumPy module and should not be imported. It will be removed in a future NumPy release.\n",
      "  from numpy.core.umath_tests import inner1d\n"
     ]
    }
   ],
   "source": [
    "from sklearn.ensemble import RandomForestClassifier\n",
    "from sklearn import metrics\n",
    "\n",
    "\n",
    "rf = RandomForestClassifier(n_estimators=20,\n",
    "                            max_depth=3,\n",
    "                            n_jobs=3,\n",
    "                            class_weight=\"balanced\")\n",
    "rf.fit(X_train, y_train)\n",
    "pred_val = rf.predict(X_val)\n",
    "\n",
    "fpr, tpr, thresholds = metrics.roc_curve(y_val, pred_val, pos_label=2)\n",
    "metrics.auc(fpr, trp)"
   ]
  },
  {
   "cell_type": "code",
   "execution_count": null,
   "metadata": {},
   "outputs": [],
   "source": [
    "pred_test = rf.predict(X_test)"
   ]
  },
  {
   "cell_type": "code",
   "execution_count": null,
   "metadata": {},
   "outputs": [],
   "source": [
    "pred_test"
   ]
  }
 ],
 "metadata": {
  "kernelspec": {
   "display_name": "Python 3",
   "language": "python",
   "name": "python3"
  },
  "language_info": {
   "codemirror_mode": {
    "name": "ipython",
    "version": 3
   },
   "file_extension": ".py",
   "mimetype": "text/x-python",
   "name": "python",
   "nbconvert_exporter": "python",
   "pygments_lexer": "ipython3",
   "version": "3.5.2"
  }
 },
 "nbformat": 4,
 "nbformat_minor": 2
}
