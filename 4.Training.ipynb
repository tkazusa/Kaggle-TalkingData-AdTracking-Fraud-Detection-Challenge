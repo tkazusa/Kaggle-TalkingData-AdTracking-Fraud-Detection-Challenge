{
 "cells": [
  {
   "cell_type": "code",
   "execution_count": 4,
   "metadata": {},
   "outputs": [],
   "source": [
    "import os\n",
    "import gc\n",
    "import glob\n",
    "from datetime import date\n",
    "\n",
    "import pandas as pd\n",
    "import numpy as np\n",
    "\n",
    "from multiprocessing import Pool\n",
    "\n",
    "from logging import getLogger\n",
    "logger = getLogger(None)\n",
    "\n",
    "from tools.datahandling import DataHandling as DH\n",
    "from tools.util import Util\n",
    "from tools.encoding import FrequencyEncoder\n",
    "\n",
    "\n",
    "logfile_name = 'logs/training_' + str(date.today().isoformat()) + '.log'\n",
    "logger = Util.Logger(logfile_name=logfile_name)"
   ]
  },
  {
   "cell_type": "code",
   "execution_count": 7,
   "metadata": {},
   "outputs": [],
   "source": [
    "def load_train_data():\n",
    "    paths = sorted(glob.glob('input/3.base/FrequencyEncoding/train/*.csv'))\n",
    "    tmps = []\n",
    "    for path in paths:\n",
    "        logger.info('path {}'.format(path))\n",
    "        tmps.append(pd.read_csv(path))\n",
    "        \n",
    "    df = pd.concat(tmps, ignore_index=True, axis=0, copy=False)\n",
    "    logger.info('data size {}'.format(df.shape))\n",
    "    return df\n",
    "\n",
    "\n",
    "def load_val_data():\n",
    "    paths = sorted(glob.glob('input/3.base/FrequencyEncoding/val/*.csv'))\n",
    "    tmps = []\n",
    "    for path in paths:\n",
    "        logger.info('path {}'.format(path))\n",
    "        tmps.append(pd.read_csv(path))\n",
    "        \n",
    "    df = pd.concat(tmps, ignore_index=True, axis=0, copy=False)\n",
    "    logger.info('data size {}'.format(df.shape))\n",
    "    return df\n",
    "\n",
    "\n",
    "def load_test_data():\n",
    "    paths = sorted(glob.glob('input/3.base/FrequencyEncoding/test/*.csv'))\n",
    "    tmps = []\n",
    "    for path in paths:\n",
    "        logger.info('path {}'.format(path))\n",
    "        tmps.append(pd.read_csv(path))\n",
    "        \n",
    "    df = pd.concat(tmps, ignore_index=True, axis=0, copy=False)\n",
    "    logger.info('data size {}'.format(df.shape))\n",
    "    return df"
   ]
  },
  {
   "cell_type": "code",
   "execution_count": 8,
   "metadata": {},
   "outputs": [
    {
     "name": "stderr",
     "output_type": "stream",
     "text": [
      "2018-11-11 15:26:31,027 <ipython-input-7-03b1e113d350> tools.util 5 [INFO][load_data] path input/3.base/FrequencyEncoding/FE_app.csv \n",
      "2018-11-11 15:26:50,064 <ipython-input-7-03b1e113d350> tools.util 5 [INFO][load_data] path input/3.base/FrequencyEncoding/FE_channel.csv \n",
      "2018-11-11 15:27:08,900 <ipython-input-7-03b1e113d350> tools.util 5 [INFO][load_data] path input/3.base/FrequencyEncoding/FE_device.csv \n",
      "2018-11-11 15:27:27,097 <ipython-input-7-03b1e113d350> tools.util 5 [INFO][load_data] path input/3.base/FrequencyEncoding/FE_ip.csv \n",
      "2018-11-11 15:27:47,154 <ipython-input-7-03b1e113d350> tools.util 5 [INFO][load_data] path input/3.base/FrequencyEncoding/FE_os.csv \n",
      "2018-11-11 15:28:05,356 <ipython-input-7-03b1e113d350> tools.util 5 [INFO][load_data] path input/3.base/FrequencyEncoding/click_id.csv \n",
      "2018-11-11 15:28:18,548 <ipython-input-7-03b1e113d350> tools.util 5 [INFO][load_data] path input/3.base/FrequencyEncoding/data_set.csv \n",
      "2018-11-11 15:28:30,258 <ipython-input-7-03b1e113d350> tools.util 5 [INFO][load_data] path input/3.base/FrequencyEncoding/day.csv \n",
      "2018-11-11 15:28:41,672 <ipython-input-7-03b1e113d350> tools.util 5 [INFO][load_data] path input/3.base/FrequencyEncoding/hour.csv \n",
      "2018-11-11 15:28:53,417 <ipython-input-7-03b1e113d350> tools.util 5 [INFO][load_data] path input/3.base/FrequencyEncoding/is_attributed.csv \n",
      "2018-11-11 15:40:50,892 <ipython-input-7-03b1e113d350> tools.util 9 [INFO][load_data] data size (629450740, 9) \n"
     ]
    }
   ],
   "source": [
    "train = load_train_data()\n",
    "val = load_val_data()\n",
    "test = load_test_data()"
   ]
  },
  {
   "cell_type": "code",
   "execution_count": null,
   "metadata": {},
   "outputs": [],
   "source": [
    "X_train = train.drop(\"is_attributed\", axis=1)\n",
    "y_train = train.is_attributed\n",
    "\n",
    "del train\n",
    "gc.collect()\n",
    "\n",
    "X_val = val.drop(\"is_attributed\", axis=1)\n",
    "y_val = val.is_attributed\n",
    "\n",
    "del val\n",
    "gc.collect()\n",
    "\n",
    "test_id = test.click_id\n",
    "X_test = test.drop(['is_attributed', 'click_id'], axis=1)\n",
    "\n",
    "del test\n",
    "gc.collect()"
   ]
  },
  {
   "cell_type": "code",
   "execution_count": null,
   "metadata": {},
   "outputs": [],
   "source": [
    "from sklearn.ensemble import RandomForestClassifier\n",
    "from sklearn import metrics\n",
    "\n",
    "\n",
    "rf = RandomForestClassifier(n_estimators=100,\n",
    "                            max_depth=10,\n",
    "                            n_jobs=10,\n",
    "                            class_weight=\"balanced\")\n",
    "rf.fit(X_train, y_train)"
   ]
  },
  {
   "cell_type": "code",
   "execution_count": null,
   "metadata": {},
   "outputs": [],
   "source": [
    "pred_val = rf.predict(X_val)\n",
    "fpr, tpr, thresholds = metrics.roc_curve(y_val, pred_val)\n",
    "auc = metrics.auc(fpr, tpr)"
   ]
  },
  {
   "cell_type": "code",
   "execution_count": null,
   "metadata": {},
   "outputs": [],
   "source": [
    "pred_test = rf.predict(X_test)\n",
    "my_submission = pd.DataFrame()\n",
    "my_submission[\"click_id\"] = test_id\n",
    "my_submission[\"is_attributed\"] = pred_test"
   ]
  },
  {
   "cell_type": "code",
   "execution_count": null,
   "metadata": {},
   "outputs": [],
   "source": [
    "my_submission.to_csv(\"submission/0.FE_RF_local{}.csv\".format(auc), index=False)"
   ]
  },
  {
   "cell_type": "code",
   "execution_count": null,
   "metadata": {},
   "outputs": [],
   "source": []
  }
 ],
 "metadata": {
  "kernelspec": {
   "display_name": "Python 3",
   "language": "python",
   "name": "python3"
  },
  "language_info": {
   "codemirror_mode": {
    "name": "ipython",
    "version": 3
   },
   "file_extension": ".py",
   "mimetype": "text/x-python",
   "name": "python",
   "nbconvert_exporter": "python",
   "pygments_lexer": "ipython3",
   "version": "3.5.2"
  }
 },
 "nbformat": 4,
 "nbformat_minor": 2
}
